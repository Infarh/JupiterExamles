{
 "cells": [
  {
   "cell_type": "markdown",
   "metadata": {},
   "source": [
    "# Основы линейной алгебры"
   ]
  },
  {
   "cell_type": "markdown",
   "metadata": {},
   "source": [
    "## Работа с векторами и матрицами"
   ]
  },
  {
   "cell_type": "code",
   "execution_count": 18,
   "metadata": {},
   "outputs": [],
   "source": [
    "import numpy as np\n",
    "import matplotlib.pyplot as plt\n",
    "import random as rnd"
   ]
  },
  {
   "cell_type": "code",
   "execution_count": 19,
   "metadata": {},
   "outputs": [],
   "source": [
    "base_list1 = [1, 2, 3, 4, 5]\n",
    "base_list2 = [[1, 2, 3], [4, 5, 6], [7, 8, 8]]"
   ]
  },
  {
   "cell_type": "code",
   "execution_count": 20,
   "metadata": {},
   "outputs": [
    {
     "data": {
      "text/plain": [
       "[1, 3, 5, 7, 9, 11, 13, 15, 17, 19]"
      ]
     },
     "execution_count": 20,
     "metadata": {},
     "output_type": "execute_result"
    }
   ],
   "source": [
    "l = list(map(lambda n: 2 * n + 1, range(0, 10)))\n",
    "l"
   ]
  },
  {
   "cell_type": "code",
   "execution_count": 21,
   "metadata": {},
   "outputs": [
    {
     "data": {
      "text/plain": [
       "[12,\n",
       " 73,\n",
       " 47,\n",
       " 11,\n",
       " 41,\n",
       " 95,\n",
       " 27,\n",
       " 37,\n",
       " 38,\n",
       " 88,\n",
       " 45,\n",
       " 22,\n",
       " 41,\n",
       " 75,\n",
       " 91,\n",
       " 75,\n",
       " 50,\n",
       " 45,\n",
       " 48,\n",
       " 56]"
      ]
     },
     "execution_count": 21,
     "metadata": {},
     "output_type": "execute_result"
    }
   ],
   "source": [
    "rnd_l = list(map(lambda x: rnd.randrange(1, 100), range(0, 20)))\n",
    "rnd_l"
   ]
  },
  {
   "cell_type": "markdown",
   "metadata": {},
   "source": [
    "## NumPy"
   ]
  },
  {
   "cell_type": "code",
   "execution_count": 22,
   "metadata": {},
   "outputs": [
    {
     "name": "stdout",
     "output_type": "stream",
     "text": [
      "[1 2 3]\n",
      "[[1 2 3]\n",
      " [4 5 6]\n",
      " [7 8 8]]\n"
     ]
    }
   ],
   "source": [
    "a = np.array([1, 2, 3])\n",
    "A = np.array(base_list2)\n",
    "\n",
    "print(a)\n",
    "print(A)"
   ]
  },
  {
   "cell_type": "code",
   "execution_count": 23,
   "metadata": {},
   "outputs": [
    {
     "data": {
      "text/plain": [
       "array([14, 32, 47])"
      ]
     },
     "execution_count": 23,
     "metadata": {},
     "output_type": "execute_result"
    }
   ],
   "source": [
    "b = np.dot(A, a)\n",
    "b"
   ]
  },
  {
   "cell_type": "code",
   "execution_count": 24,
   "metadata": {},
   "outputs": [
    {
     "data": {
      "text/plain": [
       "(array([-2, -5,  4]), np.int64(219), array([ 14,  64, 141]))"
      ]
     },
     "execution_count": 24,
     "metadata": {},
     "output_type": "execute_result"
    }
   ],
   "source": [
    "c = np.cross(a, b)\n",
    "d = np.dot(a, b)\n",
    "c, d, a * b"
   ]
  },
  {
   "cell_type": "code",
   "execution_count": 25,
   "metadata": {},
   "outputs": [],
   "source": [
    "def MatrixToVector(A, a):\n",
    "    l = np.shape(A)\n",
    "    b = [0] * l[0]\n",
    "    for i in range(0, l[0]):\n",
    "        s = 0\n",
    "        for j in range(0, l[1]):\n",
    "            s += A[i,j] * a[j]\n",
    "        b[i] = s\n",
    "    return np.array(b)"
   ]
  },
  {
   "cell_type": "code",
   "execution_count": 26,
   "metadata": {},
   "outputs": [
    {
     "data": {
      "text/plain": [
       "array([14, 32, 47])"
      ]
     },
     "execution_count": 26,
     "metadata": {},
     "output_type": "execute_result"
    }
   ],
   "source": [
    "b1 = MatrixToVector(A, a)\n",
    "b1"
   ]
  },
  {
   "cell_type": "code",
   "execution_count": 27,
   "metadata": {},
   "outputs": [
    {
     "data": {
      "text/plain": [
       "array([[1, 4, 7],\n",
       "       [2, 5, 8],\n",
       "       [3, 6, 8]])"
      ]
     },
     "execution_count": 27,
     "metadata": {},
     "output_type": "execute_result"
    }
   ],
   "source": [
    "def Transpose(A):\n",
    "    l = np.shape(A)\n",
    "    B = []\n",
    "    for i in range(0, l[1]):\n",
    "        b = []\n",
    "        for j in range(0, l[0]):\n",
    "            b.append(A[j, i])\n",
    "        B.append(b)\n",
    "    return np.array(B)\n",
    "\n",
    "C = Transpose(A)\n",
    "D = A.transpose()\n",
    "D"
   ]
  },
  {
   "cell_type": "code",
   "execution_count": 28,
   "metadata": {},
   "outputs": [
    {
     "data": {
      "text/plain": [
       "[[0, 0, 0, 0, 0],\n",
       " [0, 0, 0, 0, 0],\n",
       " [0, 0, 0, 0, 0],\n",
       " [0, 0, 0, 0, 0],\n",
       " [0, 0, 0, 0, 0],\n",
       " [0, 0, 0, 0, 0],\n",
       " [0, 0, 0, 0, 0]]"
      ]
     },
     "execution_count": 28,
     "metadata": {},
     "output_type": "execute_result"
    }
   ],
   "source": [
    "C = [[0]*5]*7\n",
    "C"
   ]
  },
  {
   "cell_type": "code",
   "execution_count": 29,
   "metadata": {},
   "outputs": [
    {
     "data": {
      "text/plain": [
       "array([[ 14,  32,  47],\n",
       "       [ 32,  77, 116],\n",
       "       [ 47, 116, 177]])"
      ]
     },
     "execution_count": 29,
     "metadata": {},
     "output_type": "execute_result"
    }
   ],
   "source": [
    "def MatrixToMatrix(A, B):\n",
    "    la = np.shape(A)\n",
    "    lb = np.shape(B)\n",
    "\n",
    "    C = []\n",
    "    for i in range(0, lb[1]):\n",
    "        C.append([0]*la[0])\n",
    "\n",
    "    for i in range(0, la[0]):\n",
    "        for j in range(0, lb[1]):\n",
    "            s = 0\n",
    "            for k in range(0, la[1]):\n",
    "                s += A[i, k] * B[k, j]\n",
    "            C[i][j] = s\n",
    "\n",
    "    return np.array(C)\n",
    "\n",
    "C = MatrixToMatrix(A, A.transpose())\n",
    "C"
   ]
  },
  {
   "cell_type": "code",
   "execution_count": 53,
   "metadata": {},
   "outputs": [
    {
     "data": {
      "text/plain": [
       "(array([[ 1.,  2.,  3.],\n",
       "        [ 0., -3., -6.],\n",
       "        [ 0.,  0., -1.]]),\n",
       " 3,\n",
       " np.float64(3.0))"
      ]
     },
     "execution_count": 53,
     "metadata": {},
     "output_type": "execute_result"
    }
   ],
   "source": [
    "def Triangle(A):\n",
    "    def Swap(M, r1, r2):\n",
    "        if r1 == r2: return False\n",
    "        m = np.shape(M)[1]\n",
    "        for j in range(0, m):\n",
    "            M[r1, j], M[r2, j] = M[r2, j], M[r1, j]\n",
    "        return True\n",
    "\n",
    "    M = np.array(A, dtype='d')\n",
    "    n, m = np.shape(M)\n",
    "    d = 1.0\n",
    "    rank = min(n, m)\n",
    "\n",
    "    for i0 in range(0, rank):\n",
    "        if(M[i0, i0] == 0):\n",
    "            max = 0.0\n",
    "            max_i = -1\n",
    "\n",
    "            for i1 in range(i0 + 1, n):\n",
    "                abs_a = abs(M[i1, i0])\n",
    "                if abs_a > max:\n",
    "                    max, max_i = abs_a, i1\n",
    "            \n",
    "            if max_i < 0:\n",
    "                for i in range(i0, n):\n",
    "                    for j in range(i0, m):\n",
    "                        M[i, j] = 0.0\n",
    "            \n",
    "            if Swap(M, i0, max_i):\n",
    "                d = -d\n",
    "\n",
    "        pivot = M[i0, i0]\n",
    "        d *= pivot\n",
    "\n",
    "        for i in range(i0 + 1, n):\n",
    "            if M[i, i0] != 0:\n",
    "                k = float(M[i, i0]) / pivot\n",
    "                M[i, i0] = 0.0\n",
    "                for j in range(i0 + 1, m):\n",
    "                    M[i, j] -= float(M[i0, j]) * k\n",
    "\n",
    "    return M, rank, d\n",
    "\n",
    "T, r, d = Triangle(A)\n",
    "T, r, d"
   ]
  },
  {
   "cell_type": "code",
   "execution_count": 40,
   "metadata": {},
   "outputs": [
    {
     "data": {
      "text/plain": [
       "(array([[1, 2, 3],\n",
       "        [4, 5, 6],\n",
       "        [7, 8, 8]]),\n",
       " array([[1, 2, 3],\n",
       "        [0, 5, 6],\n",
       "        [0, 0, 8]]))"
      ]
     },
     "execution_count": 40,
     "metadata": {},
     "output_type": "execute_result"
    }
   ],
   "source": [
    "TT = np.triu(A)\n",
    "A, TT"
   ]
  }
 ],
 "metadata": {
  "kernelspec": {
   "display_name": "Python 3",
   "language": "python",
   "name": "python3"
  },
  "language_info": {
   "codemirror_mode": {
    "name": "ipython",
    "version": 3
   },
   "file_extension": ".py",
   "mimetype": "text/x-python",
   "name": "python",
   "nbconvert_exporter": "python",
   "pygments_lexer": "ipython3",
   "version": "3.12.1"
  }
 },
 "nbformat": 4,
 "nbformat_minor": 2
}
