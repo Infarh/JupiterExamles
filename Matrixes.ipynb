{
 "cells": [
  {
   "cell_type": "markdown",
   "metadata": {},
   "source": [
    "# Основы линейной алгебры"
   ]
  },
  {
   "cell_type": "markdown",
   "metadata": {},
   "source": [
    "## Работа с векторами и матрицами"
   ]
  },
  {
   "cell_type": "code",
   "execution_count": 1,
   "metadata": {},
   "outputs": [],
   "source": [
    "import numpy as np\n",
    "import matplotlib.pyplot as plt\n",
    "import random as rnd\n",
    "import scipy.linalg as lp"
   ]
  },
  {
   "cell_type": "code",
   "execution_count": 2,
   "metadata": {},
   "outputs": [],
   "source": [
    "base_list1 = [1, 2, 3, 4, 5]\n",
    "base_list2 = [[1, 2, 3], [4, 5, 6], [7, 8, 8]]"
   ]
  },
  {
   "cell_type": "code",
   "execution_count": 3,
   "metadata": {},
   "outputs": [
    {
     "data": {
      "text/plain": [
       "[1, 3, 5, 7, 9, 11, 13, 15, 17, 19]"
      ]
     },
     "execution_count": 3,
     "metadata": {},
     "output_type": "execute_result"
    }
   ],
   "source": [
    "l = list(map(lambda n: 2 * n + 1, range(0, 10)))\n",
    "l"
   ]
  },
  {
   "cell_type": "code",
   "execution_count": 4,
   "metadata": {},
   "outputs": [
    {
     "data": {
      "text/plain": [
       "[4, 71, 69, 17, 14, 63, 50, 65, 24, 14, 93, 77, 14, 87, 87, 27, 55, 92, 83, 3]"
      ]
     },
     "execution_count": 4,
     "metadata": {},
     "output_type": "execute_result"
    }
   ],
   "source": [
    "rnd_l = list(map(lambda x: rnd.randrange(1, 100), range(0, 20)))\n",
    "rnd_l"
   ]
  },
  {
   "cell_type": "markdown",
   "metadata": {},
   "source": [
    "## NumPy"
   ]
  },
  {
   "cell_type": "code",
   "execution_count": 5,
   "metadata": {},
   "outputs": [
    {
     "name": "stdout",
     "output_type": "stream",
     "text": [
      "[1 2 3]\n",
      "[[1 2 3]\n",
      " [4 5 6]\n",
      " [7 8 8]]\n"
     ]
    }
   ],
   "source": [
    "a = np.array([1, 2, 3])\n",
    "A = np.array(base_list2)\n",
    "\n",
    "print(a)\n",
    "print(A)"
   ]
  },
  {
   "cell_type": "code",
   "execution_count": 6,
   "metadata": {},
   "outputs": [
    {
     "data": {
      "text/plain": [
       "array([14, 32, 47])"
      ]
     },
     "execution_count": 6,
     "metadata": {},
     "output_type": "execute_result"
    }
   ],
   "source": [
    "b = np.dot(A, a)\n",
    "b"
   ]
  },
  {
   "cell_type": "code",
   "execution_count": 7,
   "metadata": {},
   "outputs": [
    {
     "data": {
      "text/plain": [
       "(array([-2, -5,  4]), np.int64(219), array([ 14,  64, 141]))"
      ]
     },
     "execution_count": 7,
     "metadata": {},
     "output_type": "execute_result"
    }
   ],
   "source": [
    "c = np.cross(a, b)\n",
    "d = np.dot(a, b)\n",
    "c, d, a * b"
   ]
  },
  {
   "cell_type": "code",
   "execution_count": 8,
   "metadata": {},
   "outputs": [],
   "source": [
    "def MatrixToVector(A, a):\n",
    "    l = np.shape(A)\n",
    "    b = [0] * l[0]\n",
    "    for i in range(0, l[0]):\n",
    "        s = 0\n",
    "        for j in range(0, l[1]):\n",
    "            s += A[i,j] * a[j]\n",
    "        b[i] = s\n",
    "    return np.array(b)"
   ]
  },
  {
   "cell_type": "code",
   "execution_count": 9,
   "metadata": {},
   "outputs": [
    {
     "data": {
      "text/plain": [
       "array([14, 32, 47])"
      ]
     },
     "execution_count": 9,
     "metadata": {},
     "output_type": "execute_result"
    }
   ],
   "source": [
    "b1 = MatrixToVector(A, a)\n",
    "b1"
   ]
  },
  {
   "cell_type": "code",
   "execution_count": 10,
   "metadata": {},
   "outputs": [
    {
     "data": {
      "text/plain": [
       "array([[1, 4, 7],\n",
       "       [2, 5, 8],\n",
       "       [3, 6, 8]])"
      ]
     },
     "execution_count": 10,
     "metadata": {},
     "output_type": "execute_result"
    }
   ],
   "source": [
    "def Transpose(A):\n",
    "    l = np.shape(A)\n",
    "    B = []\n",
    "    for i in range(0, l[1]):\n",
    "        b = []\n",
    "        for j in range(0, l[0]):\n",
    "            b.append(A[j, i])\n",
    "        B.append(b)\n",
    "    return np.array(B)\n",
    "\n",
    "C = Transpose(A)\n",
    "D = A.T\n",
    "D"
   ]
  },
  {
   "cell_type": "code",
   "execution_count": 11,
   "metadata": {},
   "outputs": [
    {
     "data": {
      "text/plain": [
       "[[0, 0, 0, 0, 0],\n",
       " [0, 0, 0, 0, 0],\n",
       " [0, 0, 0, 0, 0],\n",
       " [0, 0, 0, 0, 0],\n",
       " [0, 0, 0, 0, 0],\n",
       " [0, 0, 0, 0, 0],\n",
       " [0, 0, 0, 0, 0]]"
      ]
     },
     "execution_count": 11,
     "metadata": {},
     "output_type": "execute_result"
    }
   ],
   "source": [
    "C = [[0]*5]*7\n",
    "C"
   ]
  },
  {
   "cell_type": "code",
   "execution_count": 12,
   "metadata": {},
   "outputs": [
    {
     "data": {
      "text/plain": [
       "array([[ 14,  32,  47],\n",
       "       [ 32,  77, 116],\n",
       "       [ 47, 116, 177]])"
      ]
     },
     "execution_count": 12,
     "metadata": {},
     "output_type": "execute_result"
    }
   ],
   "source": [
    "def MatrixToMatrix(A, B):\n",
    "    la = np.shape(A)\n",
    "    lb = np.shape(B)\n",
    "\n",
    "    C = []\n",
    "    for i in range(0, lb[1]):\n",
    "        C.append([0]*la[0])\n",
    "\n",
    "    for i in range(0, la[0]):\n",
    "        for j in range(0, lb[1]):\n",
    "            s = 0\n",
    "            for k in range(0, la[1]):\n",
    "                s += A[i, k] * B[k, j]\n",
    "            C[i][j] = s\n",
    "\n",
    "    return np.array(C)\n",
    "\n",
    "C = MatrixToMatrix(A, A.transpose())\n",
    "C"
   ]
  },
  {
   "cell_type": "code",
   "execution_count": 41,
   "metadata": {},
   "outputs": [
    {
     "data": {
      "text/plain": [
       "(array([[  1.,   2.,   3.],\n",
       "        [  0.,  -3.,  -6.],\n",
       "        [  0.,   0., -49.]]),\n",
       " 3,\n",
       " np.float64(147.0),\n",
       " array([[1., 0., 0.],\n",
       "        [0., 1., 0.],\n",
       "        [0., 0., 1.]]))"
      ]
     },
     "execution_count": 41,
     "metadata": {},
     "output_type": "execute_result"
    }
   ],
   "source": [
    "def Triangle(A):\n",
    "    # Добавляем локальный метод обмена строк местами\n",
    "    def Swap(M, r1, r2):\n",
    "        if r1 == r2: return False # если индексы совпадают, то ничего не делаем\n",
    "        m = np.shape(M)[1]\n",
    "        for j in range(0, m):\n",
    "            M[r1, j], M[r2, j] = M[r2, j], M[r1, j]\n",
    "        return True\n",
    "\n",
    "    # делаем копию входного массива что бы не портить его\n",
    "    M = np.array(A, dtype='d') # и насильно устанавливаем тип данных ячеек\n",
    "    n, m = np.shape(M)\n",
    "    d = 1.0 # определитель матрицы будет мультипликативно меняться\n",
    "    rank = min(n, m)\n",
    "    P = np.eye(rank) # единичная матрица, которая будет превращена в матрицу пермутаций\n",
    "\n",
    "    # бежим по строкам/столбцам (диагонали) матрицы\n",
    "    for i0 in range(0, rank):\n",
    "        if(M[i0, i0] == 0):\n",
    "            # если очередной элемент 0, то строку надо менять со строкой, \n",
    "            # в которой первый элемент дложен быть максимальным (ХЗ почему...)\n",
    "            max = 0.0\n",
    "            max_i = -1 # тут нам нужен будет индекс строки с максимальным элементом\n",
    "\n",
    "            for i1 in range(i0 + 1, n): # ищем максимальный элемент в столбце ниже\n",
    "                abs_a = abs(M[i1, i0])\n",
    "                if abs_a > max:\n",
    "                    max, max_i = abs_a, i1 # нашли максимум, запоминаем индекс строки\n",
    "            \n",
    "            if max_i < 0: # если не был найден ни один элемент больше 0\n",
    "                for i in range(i0, n): # обнуляем стобец\n",
    "                    for j in range(i0, m):\n",
    "                        M[i, j] = 0.0\n",
    "            \n",
    "            if Swap(M, i0, max_i): # если найден элемент\n",
    "                d = -d # при перестановке строк определитель меняет знак\n",
    "                Swap(P, i0, max_i) # изменяем матрицу перестановок\n",
    "\n",
    "        pivot = M[i0, i0] # текущий элемент диагонали - опорный\n",
    "        d *= pivot # сразу расчитываем определитель\n",
    "\n",
    "        for i in range(i0 + 1, n): # для всех строк ниже текущей\n",
    "            if M[i, i0] != 0: # если элемент не 0, то нужно удалять строку (обнулять элемент)\n",
    "                k = float(M[i, i0]) # pivot # расчитываем коэффициент для всех элементов строки\n",
    "                M[i, i0] = 0.0 # тупо обнуляем элемент без математики\n",
    "                for j in range(i0 + 1, m): # а для всех остальных элементов в строке\n",
    "                    M[i, j] -= float(M[i0, j]) * k # вычитаем опорную строку из текущей\n",
    "\n",
    "    # возвращаем треугольную матрицу, ранг, определитель и матрицу перестановок\n",
    "    return M, rank, d, P\n",
    "\n",
    "T, r, d, P = Triangle(A)\n",
    "T, r, d, P"
   ]
  },
  {
   "cell_type": "code",
   "execution_count": 45,
   "metadata": {},
   "outputs": [
    {
     "data": {
      "text/plain": [
       "(array([[-2.66666667,  2.66666667, -1.        ],\n",
       "        [ 3.33333333, -4.33333333,  2.        ],\n",
       "        [-1.        ,  2.        , -1.        ]]),\n",
       " array([[1., 0., 0.],\n",
       "        [0., 1., 0.],\n",
       "        [0., 0., 1.]]),\n",
       " array([[ 1.,  0.,  0.],\n",
       "        [ 0., -3.,  0.],\n",
       "        [ 0.,  0., -1.]]),\n",
       " np.float64(3.0))"
      ]
     },
     "execution_count": 45,
     "metadata": {},
     "output_type": "execute_result"
    }
   ],
   "source": [
    "def Reverse(A):\n",
    "    # Добавляем локальный метод обмена строк местами\n",
    "    def Swap(M, r1, r2):\n",
    "        if r1 == r2: return False\n",
    "        m = np.shape(M)[1]\n",
    "        for j in range(0, m):\n",
    "            M[r1, j], M[r2, j] = M[r2, j], M[r1, j]\n",
    "        return True\n",
    "\n",
    "    M = np.array(A, dtype='d')\n",
    "    size = np.shape(M)\n",
    "    n, m = size\n",
    "    d = 1.0\n",
    "    rank = min(n, m)\n",
    "    E = np.eye(rank) # здесь будет сйормирована обратная матрица. В начале это единичная матрица.\n",
    "    P = np.eye(rank)\n",
    "\n",
    "    # Сперва прямой ход метода - приведение исходной матрицы к треугольному виду совместно с единичной матрицей\n",
    "    for i0 in range(0, rank):\n",
    "        if(M[i0, i0] == 0):\n",
    "            max = 0.0\n",
    "            max_i = -1\n",
    "\n",
    "            for i1 in range(i0 + 1, n):\n",
    "                abs_a = abs(M[i1, i0])\n",
    "                if abs_a > max:\n",
    "                    max, max_i = abs_a, i1\n",
    "            \n",
    "            if max_i < 0:\n",
    "                for i in range(i0, n):\n",
    "                    for j in range(i0, m):\n",
    "                        M[i, j] = 0.0\n",
    "            \n",
    "            if Swap(M, i0, max_i):\n",
    "                d = -d\n",
    "                Swap(E, i0, max_i)\n",
    "                Swap(P, i0, max_i)\n",
    "\n",
    "        pivot = M[i0, i0]\n",
    "        d *= pivot\n",
    "\n",
    "        for i in range(i0 + 1, n):\n",
    "            if M[i, i0] != 0:\n",
    "                k = M[i, i0] / pivot\n",
    "                M[i, i0] = 0.0\n",
    "\n",
    "                for j in range(i0 + 1, m):\n",
    "                    M[i, j] -= M[i0, j] * k\n",
    "                # Дополнительно применяем то же преобразование ко вссей строке единичной матрицы\n",
    "                for j in range(0, m):\n",
    "                    E[i, j] -= E[i0, j] * k\n",
    "\n",
    "    # Теперь аналогичными методами надо обнулить верхний треугольник матрицы M\n",
    "    for i0 in range(rank - 1, -1, -1): \n",
    "        # идём в обратном направлении снизу вверх по строкам\n",
    "        # i0 - номер строки от последней вверх (она же - номер столбца)\n",
    "        pivot = M[i0, i0] # диагональный элемент триугольной матрицы\n",
    "\n",
    "        if pivot != 1: # если имеет смысл нормировать\n",
    "            for j in range(0, m): # строку нормируем по элементу строки триугольной матрицы\n",
    "                E[i0, j] /= pivot\n",
    "\n",
    "        # для всех строк выше текущей\n",
    "        for i in range(i0 - 1, -1, -1): \n",
    "            k = M[i, i0]\n",
    "            if(k != 0):\n",
    "                M[i, i0] = 0\n",
    "                for j in range(0, m):\n",
    "                    E[i, j] -= E[i0, j] * k\n",
    "\n",
    "    # Возвращаем обратную матрицу (Е), матрицу перестановок, определитель матрицы A, диагональную матрицу (в диагонали ХЗ что)\n",
    "    return E, P, d, M\n",
    "\n",
    "invA, P, d, M = Reverse(A)\n",
    "invA, A @ invA, M, d"
   ]
  }
 ],
 "metadata": {
  "kernelspec": {
   "display_name": "Python 3",
   "language": "python",
   "name": "python3"
  },
  "language_info": {
   "codemirror_mode": {
    "name": "ipython",
    "version": 3
   },
   "file_extension": ".py",
   "mimetype": "text/x-python",
   "name": "python",
   "nbconvert_exporter": "python",
   "pygments_lexer": "ipython3",
   "version": "3.12.1"
  }
 },
 "nbformat": 4,
 "nbformat_minor": 2
}
