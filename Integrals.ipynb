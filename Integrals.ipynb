{
 "cells": [
  {
   "cell_type": "markdown",
   "metadata": {},
   "source": [
    "# Численное интегрирование"
   ]
  },
  {
   "cell_type": "code",
   "execution_count": 2,
   "metadata": {},
   "outputs": [],
   "source": [
    "import numpy as np\n",
    "import matplotlib.pyplot as plt"
   ]
  },
  {
   "cell_type": "markdown",
   "metadata": {},
   "source": [
    "## Параметры интеграла"
   ]
  },
  {
   "cell_type": "code",
   "execution_count": 3,
   "metadata": {},
   "outputs": [],
   "source": [
    "a = 0\n",
    "b = 1\n",
    "dx = 0.01"
   ]
  },
  {
   "cell_type": "markdown",
   "metadata": {},
   "source": [
    "## Подинтегральное выражение\n",
    "\n",
    "$$f(x) = 3 \\cdot x^2$$\n",
    "$$I = \\int_{a}^{b} 3 \\cdot x^2\\, dx$$"
   ]
  },
  {
   "cell_type": "code",
   "execution_count": 4,
   "metadata": {},
   "outputs": [],
   "source": [
    "def F(x):\n",
    "    return 3 * x**2"
   ]
  },
  {
   "cell_type": "markdown",
   "metadata": {},
   "source": [
    "### График функциии"
   ]
  },
  {
   "cell_type": "code",
   "execution_count": 5,
   "metadata": {},
   "outputs": [
    {
     "data": {
      "text/plain": [
       "[<matplotlib.lines.Line2D at 0x7b44835aff80>]"
      ]
     },
     "execution_count": 5,
     "metadata": {},
     "output_type": "execute_result"
    },
    {
     "data": {
      "image/png": "[encoded data removed]",
      "text/plain": [
       "<Figure size 640x480 with 1 Axes>"
      ]
     },
     "metadata": {},
     "output_type": "display_data"
    }
   ],
   "source": [
    "XX = np.arange(a, b + dx, dx)\n",
    "YY = F(XX)\n",
    "\n",
    "plt.plot(XX, YY)"
   ]
  },
  {
   "cell_type": "markdown",
   "metadata": {},
   "source": [
    "## Метод прямоугольников\n",
    "$$I = \\sum_{x = a}^{b} F(x \\mathrel{+=} dx) \\cdot dx$$"
   ]
  },
  {
   "cell_type": "code",
   "execution_count": 6,
   "metadata": {},
   "outputs": [],
   "source": [
    "def IntRect(a, b, dx, f):\n",
    "    S = 0\n",
    "    x = a\n",
    "    while x < b - dx:\n",
    "        S += f(x) * dx\n",
    "        x += dx\n",
    "    return S"
   ]
  },
  {
   "cell_type": "code",
   "execution_count": 7,
   "metadata": {},
   "outputs": [
    {
     "data": {
      "text/plain": [
       "0.9556470000000011"
      ]
     },
     "execution_count": 7,
     "metadata": {},
     "output_type": "execute_result"
    }
   ],
   "source": [
    "I_rect = IntRect(a, b, dx, F)\n",
    "I_rect"
   ]
  },
  {
   "cell_type": "markdown",
   "metadata": {},
   "source": [
    "## Метод тропеций"
   ]
  },
  {
   "cell_type": "code",
   "execution_count": 8,
   "metadata": {},
   "outputs": [],
   "source": [
    "def IntTrop(a, b, dx, f):\n",
    "    S = 0\n",
    "    y1 = f(a)\n",
    "    x = a + dx\n",
    "    while x < b:\n",
    "        y2 = f(x)\n",
    "        S += (y1 + y2) / 2 * dx\n",
    "        x += dx\n",
    "        y1 = y2\n",
    "    return S"
   ]
  },
  {
   "cell_type": "code",
   "execution_count": 9,
   "metadata": {},
   "outputs": [
    {
     "data": {
      "text/plain": [
       "0.9703485000000012"
      ]
     },
     "execution_count": 9,
     "metadata": {},
     "output_type": "execute_result"
    }
   ],
   "source": [
    "I_trop = IntTrop(a, b, dx, F)\n",
    "I_trop"
   ]
  },
  {
   "cell_type": "markdown",
   "metadata": {},
   "source": [
    "## Метод Симпсона"
   ]
  },
  {
   "cell_type": "code",
   "execution_count": 10,
   "metadata": {},
   "outputs": [],
   "source": [
    "def IntSimpson(a, b, dx, f):\n",
    "    S = 0\n",
    "    y1 = f(a)\n",
    "    x = a + dx\n",
    "    while x < b:\n",
    "        y12 = f(x - dx/2)\n",
    "        y2 = f(x)\n",
    "        S += (y1 + 4 * y12 + y2) * dx / 6\n",
    "        x += dx\n",
    "        y1 = y2\n",
    "    return S"
   ]
  },
  {
   "cell_type": "code",
   "execution_count": 11,
   "metadata": {},
   "outputs": [
    {
     "data": {
      "text/plain": [
       "0.9702990000000012"
      ]
     },
     "execution_count": 11,
     "metadata": {},
     "output_type": "execute_result"
    }
   ],
   "source": [
    "I_sim = IntSimpson(a, b, dx, F)\n",
    "I_sim"
   ]
  },
  {
   "cell_type": "markdown",
   "metadata": {},
   "source": [
    "## Адаптивный метод"
   ]
  },
  {
   "cell_type": "code",
   "execution_count": 38,
   "metadata": {},
   "outputs": [],
   "source": [
    "def IntAdaptive(a, b, f, eps = 0.01, N = 5, IntBase = IntSimpson):\n",
    "    I1 = IntBase(a, b, (b - a) / N, f)\n",
    "    I2 = IntBase(a, b, (b - a) / (N * 2), f)\n",
    "    err = abs(I1 - I2)\n",
    "    if err <= eps: return (I2, err)\n",
    "    I1, err1 = IntAdaptive(a, (a + b) / 2, f, eps, N)\n",
    "    I2, err2 = IntAdaptive((a + b) / 2, b, f, eps, N)\n",
    "    return (I1 + I2, max(err1, err2))"
   ]
  },
  {
   "cell_type": "code",
   "execution_count": 42,
   "metadata": {},
   "outputs": [
    {
     "data": {
      "text/plain": [
       "(0.9993625488281246, 0.0009531249999999995)"
      ]
     },
     "execution_count": 42,
     "metadata": {},
     "output_type": "execute_result"
    }
   ],
   "source": [
    "I_adapt, err = IntAdaptive(a, b, F, 0.001)\n",
    "I_adapt, err"
   ]
  }
 ],
 "metadata": {
  "kernelspec": {
   "display_name": "Python 3",
   "language": "python",
   "name": "python3"
  },
  "language_info": {
   "codemirror_mode": {
    "name": "ipython",
    "version": 3
   },
   "file_extension": ".py",
   "mimetype": "text/x-python",
   "name": "python",
   "nbconvert_exporter": "python",
   "pygments_lexer": "ipython3",
   "version": "3.12.1"
  }
 },
 "nbformat": 4,
 "nbformat_minor": 2
}
